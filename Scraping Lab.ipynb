{
 "cells": [
  {
   "cell_type": "code",
   "execution_count": 1,
   "metadata": {},
   "outputs": [],
   "source": [
    "from bs4 import BeautifulSoup\n",
    "# from fake_useragent import UserAgent\n",
    "import requests"
   ]
  },
  {
   "cell_type": "code",
   "execution_count": 2,
   "metadata": {},
   "outputs": [],
   "source": [
    "def dcard():\n",
    "    url = \"https://www.dcard.tw/f\"\n",
    "    r = requests.get(url)\n",
    "    alright = False\n",
    "    print(r)\n",
    "    if (r.status_code==200):\n",
    "        print(\"NORMAL\\n\")\n",
    "        alright = True\n",
    "    else:\n",
    "        print(\"Something Fishy\\n\")\n",
    "\n",
    "    if alright == True:\n",
    "        soup = BeautifulSoup(r.text,'html.parser')\n",
    "        filter_1 = soup.find_all(\"article\")\n",
    "        filter_2 = soup.find_all(\"a\",class_ = 'sc-1v1d5rx-4 cJzlcl')\n",
    "    #     print(filter_2)\n",
    "        for c in filter_2:\n",
    "            if (c.text != ''):\n",
    "                print(c.text)"
   ]
  },
  {
   "cell_type": "code",
   "execution_count": 3,
   "metadata": {},
   "outputs": [
    {
     "name": "stdout",
     "output_type": "stream",
     "text": [
      "<Response [200]>\n",
      "NORMAL\n",
      "\n",
      "戀愛長久的秘訣\n",
      "#圖多 這是台灣你知道的\n",
      "被雞掰室友戴綠帽的故事\n",
      "原來紅線真的會不見\n",
      "我男友說要散佈我的裸照\n",
      "連瘦子都看不下去了 別再now了啦\n",
      "我女友他爸爸跟我說......\n",
      "某笑居然吃某玉的...\n",
      "馬的，竟然出現在我家\n",
      "Line貼圖特價6塊錢\n",
      "群組名稱：武漢肺炎\n",
      "沒踩雷過！男友送的唇膏🧡\n",
      "猜猜是我是誰？被我弟笑死\n",
      "關於另一半收入問題\n",
      "適合大學生的投資🔥\n",
      "防疫期間的旅館救了約買可樂的小弟我一命\n",
      "快被喇牙傻眼爆 怎麼會有人臉皮這麼厚\n",
      "爭鮮 白飯藏鮮 倒蓋\n",
      "（更）在沒有你的世界學會好好愛你\n",
      "性真的是很重要的一環\n",
      "爸爸撿垃圾桶的口罩戴\n",
      "我今年是個大二生\n",
      "太扯 被網友說對莉婭的意圖了\n",
      "霸凌影片被刪文（更新）\n",
      "要畫好眼線，唯有努力練習之我的眼線變化史\n",
      "玉皇大帝開會～\n",
      "新來的妹妹們的談話\n",
      "哈哈台超可愛男生\n",
      "捨不得淘汰的包><有辦法清理嗎?\n",
      "好久不見的IU回歸美照太仙了💜💚\n"
     ]
    }
   ],
   "source": [
    "dcard()"
   ]
  },
  {
   "cell_type": "code",
   "execution_count": null,
   "metadata": {},
   "outputs": [],
   "source": []
  }
 ],
 "metadata": {
  "kernelspec": {
   "display_name": "Python 3",
   "language": "python",
   "name": "python3"
  },
  "language_info": {
   "codemirror_mode": {
    "name": "ipython",
    "version": 3
   },
   "file_extension": ".py",
   "mimetype": "text/x-python",
   "name": "python",
   "nbconvert_exporter": "python",
   "pygments_lexer": "ipython3",
   "version": "3.7.6"
  }
 },
 "nbformat": 4,
 "nbformat_minor": 2
}
